{
 "metadata": {
  "name": ""
 },
 "nbformat": 3,
 "nbformat_minor": 0,
 "worksheets": [
  {
   "cells": [
    {
     "cell_type": "markdown",
     "metadata": {},
     "source": [
      "Display histogram of entries per hour"
     ]
    },
    {
     "cell_type": "code",
     "collapsed": false,
     "input": [
      "import numpy as np\n",
      "import pandas as pd\n",
      "import seaborn as sns\n",
      "import datetime\n",
      "import matplotlib.pyplot as plt\n",
      "#import ggplot\n",
      "\n",
      "\n",
      "df = pd.read_csv('nycSubway.csv')\n",
      "\n",
      "entriesByDayOfMonth = df[['DATEn', 'ENTRIESn_hourly']] \\\n",
      "    .groupby('DATEn', as_index=False).sum()\n",
      "entriesByDayOfMonth['Day'] = [datetime.datetime.strptime(x, '%Y-%m-%d') \\\n",
      "                                  .strftime('%w %A') \\\n",
      "                              for x in entriesByDayOfMonth['DATEn']]\n",
      "entriesByDay = entriesByDayOfMonth[['Day', 'ENTRIESn_hourly']]\\\n",
      "    .groupby('Day', as_index=False).sum()\n",
      "\n",
      "#print entriesByDay\n",
      "plt.hist(entriesByDay['ENTRIESn_hourly'])#, row='Day', col = 'ENTRIESn_hourly')\n",
      "plt.show()\n",
      "'''\n",
      "g = sns.FacetGrid(entriesByDay, row=\"Day\", col=\"ENTRIESn_hourly\", margin_titles=True)\n",
      "#bins = np.linspace(0, 60, 13)\n",
      "g.map(plt.hist, \"Day\", color=\"steelblue\", lw=0)\n",
      "\n",
      "plot = ggplot(entriesByDay, aes(x='Day', y='ENTRIESn_hourly')) \\\n",
      "       + geom_bar(aes(weight='ENTRIESn_hourly'), fill='blue') \\\n",
      "       + ggtitle('NYC Subway ridership by day of week') + xlab('Day') + ylab('Entries')'''"
     ],
     "language": "python",
     "metadata": {},
     "outputs": [],
     "prompt_number": "*"
    },
    {
     "cell_type": "markdown",
     "metadata": {},
     "source": [
      "Display histogram of entris per day of the week"
     ]
    },
    {
     "cell_type": "code",
     "collapsed": false,
     "input": [
      "asdf"
     ],
     "language": "python",
     "metadata": {},
     "outputs": []
    },
    {
     "cell_type": "markdown",
     "metadata": {},
     "source": [
      "Scatterplot of entries to rain"
     ]
    },
    {
     "cell_type": "markdown",
     "metadata": {},
     "source": [
      "Scatterplot of entries to precipitation"
     ]
    },
    {
     "cell_type": "markdown",
     "metadata": {},
     "source": [
      "Scatterplot of entries to min temperature"
     ]
    },
    {
     "cell_type": "markdown",
     "metadata": {},
     "source": [
      "Scatterplot of entries to max temperature"
     ]
    },
    {
     "cell_type": "markdown",
     "metadata": {},
     "source": [
      "Scatterplot of entries to mean temperature"
     ]
    }
   ],
   "metadata": {}
  }
 ]
}