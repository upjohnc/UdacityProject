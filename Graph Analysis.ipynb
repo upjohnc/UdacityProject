{
 "metadata": {
  "name": "",
  "signature": "sha256:885d6b3a05c53f3284da907437b36971d2c2475e2dc55d2b35ad075e57cd57a0"
 },
 "nbformat": 3,
 "nbformat_minor": 0,
 "worksheets": [
  {
   "cells": [
    {
     "cell_type": "heading",
     "level": 1,
     "metadata": {},
     "source": [
      "Display barplot of entris per day of the week"
     ]
    },
    {
     "cell_type": "code",
     "collapsed": false,
     "input": [
      "import numpy as np\n",
      "import pandas as pd\n",
      "import seaborn as sns\n",
      "import datetime\n",
      "\n",
      "\n",
      "df = pd.read_csv('nycSubway.csv')\n",
      "\n",
      "entriesByDayOfMonth = df[['DATEn', 'ENTRIESn_hourly']] \\\n",
      "    .groupby('DATEn', as_index=False).sum()\n",
      "entriesByDayOfMonth['Day'] = [datetime.datetime.strptime(x, '%Y-%m-%d') \\\n",
      "                                  .strftime('%w %A') \\\n",
      "                              for x in entriesByDayOfMonth['DATEn']]\n",
      "entriesByDay = entriesByDayOfMonth[['Day', 'ENTRIESn_hourly']]\\\n",
      "    .groupby('Day', as_index=False).sum()\n",
      "\n",
      "sns.barplot(x = 'Day', y = 'ENTRIESn_hourly', data = entriesByDay, color=\"LightSalmon\")#MediumPurple skyblue  steelblue"
     ],
     "language": "python",
     "metadata": {},
     "outputs": [
      {
       "metadata": {},
       "output_type": "pyout",
       "prompt_number": 28,
       "text": [
        "<matplotlib.axes.AxesSubplot at 0x1140936d0>"
       ]
      },
      {
       "metadata": {},
       "output_type": "display_data",
       "png": "[encoded data removed]",
       "text": [
        "<matplotlib.figure.Figure at 0x1142f8a50>"
       ]
      }
     ],
     "prompt_number": 28
    },
    {
     "cell_type": "markdown",
     "metadata": {},
     "source": [
      "Display barplot of entris per hour"
     ]
    },
    {
     "cell_type": "code",
     "collapsed": false,
     "input": [
      "import numpy as np\n",
      "import pandas as pd\n",
      "import seaborn as sns\n",
      "import datetime\n",
      "\n",
      "\n",
      "df = pd.read_csv('nycSubway.csv')\n",
      "\n",
      "entriesByTime = df[['TIMEn', 'ENTRIESn_hourly']] \\\n",
      "    .groupby('TIMEn', as_index=False).sum()\n",
      "entriesByTime['Hour'] = [datetime.datetime.strptime(x, '%H:%M:%S') \\\n",
      "                                  .strftime('%H') \\\n",
      "                              for x in entriesByTime['TIMEn']]\n",
      "entriesByHour = entriesByTime[['Hour', 'ENTRIESn_hourly']]\\\n",
      "    .groupby('Hour', as_index=False).sum()\n",
      "\n",
      "#print entriesByHour\n",
      "sns.barplot(x = 'Hour', y = 'ENTRIESn_hourly', data = entriesByHour, color=\"LimeGreen\")"
     ],
     "language": "python",
     "metadata": {},
     "outputs": [
      {
       "metadata": {},
       "output_type": "pyout",
       "prompt_number": 39,
       "text": [
        "<matplotlib.axes.AxesSubplot at 0x114ca4410>"
       ]
      },
      {
       "metadata": {},
       "output_type": "display_data",
       "png": "[encoded data removed]",
       "text": [
        "<matplotlib.figure.Figure at 0x114591190>"
       ]
      }
     ],
     "prompt_number": 39
    },
    {
     "cell_type": "code",
     "collapsed": false,
     "input": [
      "with open('/Users/user/Projects/UdacityProject/tempFile.csv', \"wb\") as ifile:\n",
      "        entriesByTime.to_csv(ifile)"
     ],
     "language": "python",
     "metadata": {},
     "outputs": [],
     "prompt_number": 46
    },
    {
     "cell_type": "markdown",
     "metadata": {},
     "source": [
      "Scatterplot of entries to rain"
     ]
    },
    {
     "cell_type": "markdown",
     "metadata": {},
     "source": [
      "Scatterplot of entries to precipitation"
     ]
    },
    {
     "cell_type": "markdown",
     "metadata": {},
     "source": [
      "Scatterplot of entries to min temperature"
     ]
    },
    {
     "cell_type": "markdown",
     "metadata": {},
     "source": [
      "Scatterplot of entries to max temperature"
     ]
    },
    {
     "cell_type": "markdown",
     "metadata": {},
     "source": [
      "Scatterplot of entries to mean temperature"
     ]
    }
   ],
   "metadata": {}
  }
 ]
}