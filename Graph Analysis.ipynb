{
 "metadata": {
  "name": "",
  "signature": "sha256:c604cf43d410eac9fef07d9f3669712fe1579f573508571a5d41716a086f6d98"
 },
 "nbformat": 3,
 "nbformat_minor": 0,
 "worksheets": [
  {
   "cells": [
    {
     "cell_type": "heading",
     "level": 1,
     "metadata": {},
     "source": [
      "Display barplot of entries per hour"
     ]
    },
    {
     "cell_type": "code",
     "collapsed": false,
     "input": [
      "import numpy as np\n",
      "import pandas as pd\n",
      "import seaborn as sns\n",
      "import datetime\n",
      "\n",
      "\n",
      "df = pd.read_csv('nycSubway.csv')\n",
      "\n",
      "entriesByDayOfMonth = df[['DATEn', 'ENTRIESn_hourly']] \\\n",
      "    .groupby('DATEn', as_index=False).sum()\n",
      "entriesByDayOfMonth['Day'] = [datetime.datetime.strptime(x, '%Y-%m-%d') \\\n",
      "                                  .strftime('%w %A') \\\n",
      "                              for x in entriesByDayOfMonth['DATEn']]\n",
      "entriesByDay = entriesByDayOfMonth[['Day', 'ENTRIESn_hourly']]\\\n",
      "    .groupby('Day', as_index=False).sum()\n",
      "\n",
      "sns.barplot(x = 'Day', y = 'ENTRIESn_hourly', data = entriesByDay, color=\"LightSalmon\")#MediumPurple skyblue  steelblue"
     ],
     "language": "python",
     "metadata": {},
     "outputs": [
      {
       "metadata": {},
       "output_type": "pyout",
       "prompt_number": 24,
       "text": [
        "\"\\nplot = ggplot(entriesByDay, aes(x='Day', y='ENTRIESn_hourly'))        + geom_bar(aes(weight='ENTRIESn_hourly'), fill='blue')        + ggtitle('NYC Subway ridership by day of week') + xlab('Day') + ylab('Entries')\""
       ]
      },
      {
       "metadata": {},
       "output_type": "display_data",
       "png": "[encoded data removed]",
       "text": [
        "<matplotlib.figure.Figure at 0x113f58e50>"
       ]
      }
     ],
     "prompt_number": 24
    },
    {
     "cell_type": "markdown",
     "metadata": {},
     "source": [
      "Display barplot of entris per day of the week"
     ]
    },
    {
     "cell_type": "code",
     "collapsed": false,
     "input": [
      "asdf"
     ],
     "language": "python",
     "metadata": {},
     "outputs": []
    },
    {
     "cell_type": "markdown",
     "metadata": {},
     "source": [
      "Scatterplot of entries to rain"
     ]
    },
    {
     "cell_type": "markdown",
     "metadata": {},
     "source": [
      "Scatterplot of entries to precipitation"
     ]
    },
    {
     "cell_type": "markdown",
     "metadata": {},
     "source": [
      "Scatterplot of entries to min temperature"
     ]
    },
    {
     "cell_type": "markdown",
     "metadata": {},
     "source": [
      "Scatterplot of entries to max temperature"
     ]
    },
    {
     "cell_type": "markdown",
     "metadata": {},
     "source": [
      "Scatterplot of entries to mean temperature"
     ]
    }
   ],
   "metadata": {}
  }
 ]
}