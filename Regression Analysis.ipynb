{
 "metadata": {
  "name": "",
  "signature": "sha256:e765b1ed29b127dabde0ca6a4c5173011cf68727384e7c6a90e517b06a67e304"
 },
 "nbformat": 3,
 "nbformat_minor": 0,
 "worksheets": [
  {
   "cells": [
    {
     "cell_type": "markdown",
     "metadata": {},
     "source": [
      "#Regression test with rain, min temp, max dew "
     ]
    },
    {
     "cell_type": "code",
     "collapsed": false,
     "input": [
      "import numpy as np\n",
      "import pandas as pd\n",
      "import scipy\n",
      "from statsmodels import api as sm\n",
      "\n",
      "df = pd.read_csv('nycSubway.csv')\n",
      "\n",
      "y = df['ENTRIESn_hourly']\n",
      "x = df[['rain','mintempi','maxdewpti']]\n",
      "prediction = sm.OLS(y, x).fit()\n",
      "print prediction.summary()\n",
      "#    print prediction.predict()\n"
     ],
     "language": "python",
     "metadata": {},
     "outputs": [
      {
       "output_type": "stream",
       "stream": "stdout",
       "text": [
        "                            OLS Regression Results                            \n",
        "==============================================================================\n",
        "Dep. Variable:        ENTRIESn_hourly   R-squared:                       0.176\n",
        "Model:                            OLS   Adj. R-squared:                  0.175\n",
        "Method:                 Least Squares   F-statistic:                     9363.\n",
        "Date:                Sun, 30 Mar 2014   Prob (F-statistic):               0.00\n",
        "Time:                        19:09:53   Log-Likelihood:            -1.2111e+06\n",
        "No. Observations:              131951   AIC:                         2.422e+06\n",
        "Df Residuals:                  131948   BIC:                         2.422e+06\n",
        "Df Model:                           3                                         \n",
        "==============================================================================\n",
        "                 coef    std err          t      P>|t|      [95.0% Conf. Int.]\n",
        "------------------------------------------------------------------------------\n",
        "rain          15.6095     18.813      0.830      0.407       -21.264    52.483\n",
        "mintempi      14.0630      1.687      8.338      0.000        10.757    17.369\n",
        "maxdewpti      4.8673      1.722      2.827      0.005         1.493     8.242\n",
        "==============================================================================\n",
        "Omnibus:                   145453.359   Durbin-Watson:                   1.026\n",
        "Prob(Omnibus):                  0.000   Jarque-Bera (JB):         14713415.696\n",
        "Skew:                           5.657   Prob(JB):                         0.00\n",
        "Kurtosis:                      53.479   Cond. No.                         237.\n",
        "==============================================================================\n"
       ]
      }
     ],
     "prompt_number": 3
    },
    {
     "cell_type": "markdown",
     "metadata": {},
     "source": [
      "#Regression test with Min Temp & Max Dew"
     ]
    },
    {
     "cell_type": "code",
     "collapsed": false,
     "input": [
      "import numpy as np\n",
      "import pandas as pd\n",
      "import scipy\n",
      "from statsmodels import api as sm\n",
      "\n",
      "df = pd.read_csv('nycSubway.csv')\n",
      "\n",
      "y = df['ENTRIESn_hourly']\n",
      "x = df[['mintempi','maxdewpti']]\n",
      "prediction = sm.OLS(y, x).fit()\n",
      "print prediction.summary()\n",
      "#    print prediction.predict()\n"
     ],
     "language": "python",
     "metadata": {},
     "outputs": [
      {
       "output_type": "stream",
       "stream": "stdout",
       "text": [
        "                            OLS Regression Results                            \n",
        "==============================================================================\n",
        "Dep. Variable:        ENTRIESn_hourly   R-squared:                       0.176\n",
        "Model:                            OLS   Adj. R-squared:                  0.175\n",
        "Method:                 Least Squares   F-statistic:                 1.404e+04\n",
        "Date:                Sun, 30 Mar 2014   Prob (F-statistic):               0.00\n",
        "Time:                        19:10:58   Log-Likelihood:            -1.2111e+06\n",
        "No. Observations:              131951   AIC:                         2.422e+06\n",
        "Df Residuals:                  131949   BIC:                         2.422e+06\n",
        "Df Model:                           2                                         \n",
        "==============================================================================\n",
        "                 coef    std err          t      P>|t|      [95.0% Conf. Int.]\n",
        "------------------------------------------------------------------------------\n",
        "mintempi      13.1481      1.276     10.303      0.000        10.647    15.649\n",
        "maxdewpti      5.8535      1.246      4.699      0.000         3.412     8.295\n",
        "==============================================================================\n",
        "Omnibus:                   145450.235   Durbin-Watson:                   1.026\n",
        "Prob(Omnibus):                  0.000   Jarque-Bera (JB):         14712650.744\n",
        "Skew:                           5.657   Prob(JB):                         0.00\n",
        "Kurtosis:                      53.478   Cond. No.                         22.3\n",
        "==============================================================================\n"
       ]
      }
     ],
     "prompt_number": 4
    },
    {
     "cell_type": "markdown",
     "metadata": {},
     "source": [
      "#Regression test with Rain"
     ]
    },
    {
     "cell_type": "code",
     "collapsed": false,
     "input": [
      "import numpy as np\n",
      "import pandas as pd\n",
      "import scipy\n",
      "from statsmodels import api as sm\n",
      "\n",
      "df = pd.read_csv('nycSubway.csv')\n",
      "\n",
      "y = df['ENTRIESn_hourly']\n",
      "x = df[['rain']]\n",
      "prediction = sm.OLS(y, x).fit()\n",
      "print prediction.summary()\n",
      "#    print prediction.predict()\n"
     ],
     "language": "python",
     "metadata": {},
     "outputs": [
      {
       "output_type": "stream",
       "stream": "stdout",
       "text": [
        "                            OLS Regression Results                            \n",
        "==============================================================================\n",
        "Dep. Variable:        ENTRIESn_hourly   R-squared:                       0.061\n",
        "Model:                            OLS   Adj. R-squared:                  0.061\n",
        "Method:                 Least Squares   F-statistic:                     8619.\n",
        "Date:                Sun, 30 Mar 2014   Prob (F-statistic):               0.00\n",
        "Time:                        19:11:09   Log-Likelihood:            -1.2197e+06\n",
        "No. Observations:              131951   AIC:                         2.439e+06\n",
        "Df Residuals:                  131950   BIC:                         2.439e+06\n",
        "Df Model:                           1                                         \n",
        "==============================================================================\n",
        "                 coef    std err          t      P>|t|      [95.0% Conf. Int.]\n",
        "------------------------------------------------------------------------------\n",
        "rain        1105.4464     11.907     92.840      0.000      1082.109  1128.784\n",
        "==============================================================================\n",
        "Omnibus:                   139193.345   Durbin-Watson:                   0.901\n",
        "Prob(Omnibus):                  0.000   Jarque-Bera (JB):         12316739.319\n",
        "Skew:                           5.281   Prob(JB):                         0.00\n",
        "Kurtosis:                      49.138   Cond. No.                         1.00\n",
        "==============================================================================\n"
       ]
      }
     ],
     "prompt_number": 5
    },
    {
     "cell_type": "markdown",
     "metadata": {},
     "source": [
      "#Regression test with Min Temp"
     ]
    },
    {
     "cell_type": "code",
     "collapsed": false,
     "input": [
      "import numpy as np\n",
      "import pandas as pd\n",
      "import scipy\n",
      "from statsmodels import api as sm\n",
      "\n",
      "df = pd.read_csv('nycSubway.csv')\n",
      "\n",
      "y = df['ENTRIESn_hourly']\n",
      "x = df[['mintempi']]\n",
      "prediction = sm.OLS(y, x).fit()\n",
      "print prediction.summary()\n",
      "#    print prediction.predict()\n"
     ],
     "language": "python",
     "metadata": {},
     "outputs": [
      {
       "output_type": "stream",
       "stream": "stdout",
       "text": [
        "                            OLS Regression Results                            \n",
        "==============================================================================\n",
        "Dep. Variable:        ENTRIESn_hourly   R-squared:                       0.175\n",
        "Model:                            OLS   Adj. R-squared:                  0.175\n",
        "Method:                 Least Squares   F-statistic:                 2.806e+04\n",
        "Date:                Sun, 30 Mar 2014   Prob (F-statistic):               0.00\n",
        "Time:                        19:11:18   Log-Likelihood:            -1.2111e+06\n",
        "No. Observations:              131951   AIC:                         2.422e+06\n",
        "Df Residuals:                  131950   BIC:                         2.422e+06\n",
        "Df Model:                           1                                         \n",
        "==============================================================================\n",
        "                 coef    std err          t      P>|t|      [95.0% Conf. Int.]\n",
        "------------------------------------------------------------------------------\n",
        "mintempi      19.1208      0.114    167.513      0.000        18.897    19.345\n",
        "==============================================================================\n",
        "Omnibus:                   145470.119   Durbin-Watson:                   1.026\n",
        "Prob(Omnibus):                  0.000   Jarque-Bera (JB):         14718820.310\n",
        "Skew:                           5.658   Prob(JB):                         0.00\n",
        "Kurtosis:                      53.489   Cond. No.                         1.00\n",
        "==============================================================================\n"
       ]
      }
     ],
     "prompt_number": 6
    },
    {
     "cell_type": "markdown",
     "metadata": {},
     "source": [
      "#Regression test with Max Dew"
     ]
    },
    {
     "cell_type": "code",
     "collapsed": false,
     "input": [
      "import numpy as np\n",
      "import pandas as pd\n",
      "import scipy\n",
      "from statsmodels import api as sm\n",
      "\n",
      "df = pd.read_csv('nycSubway.csv')\n",
      "\n",
      "y = df['ENTRIESn_hourly']\n",
      "x = df[['maxdewpti']]\n",
      "prediction = sm.OLS(y, x).fit()\n",
      "print prediction.summary()\n",
      "#    print prediction.predict()\n"
     ],
     "language": "python",
     "metadata": {},
     "outputs": [
      {
       "output_type": "stream",
       "stream": "stdout",
       "text": [
        "                            OLS Regression Results                            \n",
        "==============================================================================\n",
        "Dep. Variable:        ENTRIESn_hourly   R-squared:                       0.175\n",
        "Model:                            OLS   Adj. R-squared:                  0.175\n",
        "Method:                 Least Squares   F-statistic:                 2.796e+04\n",
        "Date:                Sun, 30 Mar 2014   Prob (F-statistic):               0.00\n",
        "Time:                        19:11:23   Log-Likelihood:            -1.2111e+06\n",
        "No. Observations:              131951   AIC:                         2.422e+06\n",
        "Df Residuals:                  131950   BIC:                         2.422e+06\n",
        "Df Model:                           1                                         \n",
        "==============================================================================\n",
        "                 coef    std err          t      P>|t|      [95.0% Conf. Int.]\n",
        "------------------------------------------------------------------------------\n",
        "maxdewpti     18.6362      0.111    167.209      0.000        18.418    18.855\n",
        "==============================================================================\n",
        "Omnibus:                   145252.177   Durbin-Watson:                   1.025\n",
        "Prob(Omnibus):                  0.000   Jarque-Bera (JB):         14634088.808\n",
        "Skew:                           5.644   Prob(JB):                         0.00\n",
        "Kurtosis:                      53.342   Cond. No.                         1.00\n",
        "==============================================================================\n"
       ]
      }
     ],
     "prompt_number": 7
    },
    {
     "cell_type": "code",
     "collapsed": false,
     "input": [
      "import numpy as np\n",
      "import pandas as pd\n",
      "import scipy\n",
      "from statsmodels import api as sm\n",
      "\n",
      "df = pd.read_csv('nycSubway.csv')\n",
      "\n",
      "y = df['ENTRIESn_hourly']\n",
      "x = df[['EXITSn_hourly']]\n",
      "prediction = sm.OLS(y, x).fit()\n",
      "print prediction.summary()\n",
      "#    print prediction.predict()"
     ],
     "language": "python",
     "metadata": {},
     "outputs": [
      {
       "output_type": "stream",
       "stream": "stdout",
       "text": [
        "                            OLS Regression Results                            \n",
        "==============================================================================\n",
        "Dep. Variable:        ENTRIESn_hourly   R-squared:                       0.621\n",
        "Model:                            OLS   Adj. R-squared:                  0.621\n",
        "Method:                 Least Squares   F-statistic:                 2.161e+05\n",
        "Date:                Sun, 30 Mar 2014   Prob (F-statistic):               0.00\n",
        "Time:                        19:23:24   Log-Likelihood:            -1.1598e+06\n",
        "No. Observations:              131951   AIC:                         2.320e+06\n",
        "Df Residuals:                  131950   BIC:                         2.320e+06\n",
        "Df Model:                           1                                         \n",
        "=================================================================================\n",
        "                    coef    std err          t      P>|t|      [95.0% Conf. Int.]\n",
        "---------------------------------------------------------------------------------\n",
        "EXITSn_hourly     0.9262      0.002    464.855      0.000         0.922     0.930\n",
        "==============================================================================\n",
        "Omnibus:                    91125.532   Durbin-Watson:                   1.494\n",
        "Prob(Omnibus):                  0.000   Jarque-Bera (JB):         28196849.526\n",
        "Skew:                           2.207   Prob(JB):                         0.00\n",
        "Kurtosis:                      74.478   Cond. No.                         1.00\n",
        "==============================================================================\n"
       ]
      }
     ],
     "prompt_number": 10
    },
    {
     "cell_type": "code",
     "collapsed": false,
     "input": [],
     "language": "python",
     "metadata": {},
     "outputs": []
    }
   ],
   "metadata": {}
  }
 ]
}