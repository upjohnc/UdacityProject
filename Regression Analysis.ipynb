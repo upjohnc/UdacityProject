{
 "metadata": {
  "name": "",
  "signature": "sha256:74f300e2caa1a16e5772cc0b3bd31792d3fc06adeac501c9a8466e6513428f81"
 },
 "nbformat": 3,
 "nbformat_minor": 0,
 "worksheets": [
  {
   "cells": [
    {
     "cell_type": "markdown",
     "metadata": {},
     "source": [
      "#Regression test with rain, min temp, max dew "
     ]
    },
    {
     "cell_type": "code",
     "collapsed": false,
     "input": [
      "import numpy as np\n",
      "import pandas\n",
      "import scipy\n",
      "from statsmodels import api as sm\n",
      "\n",
      "df = pd.read_csv('nycSubway.csv')\n",
      "\n",
      "y = df['ENTRIESn_hourly']\n",
      "x = weather_turnstile[['rain','mintempi','maxdewpti']]\n",
      "prediction = sm.OLS(y, x).fit()\n",
      "print prediction.summary()\n",
      "#    print prediction.predict()\n"
     ],
     "language": "python",
     "metadata": {},
     "outputs": [
      {
       "ename": "ImportError",
       "evalue": "No module named statsmodels",
       "output_type": "pyerr",
       "traceback": [
        "\u001b[0;31m---------------------------------------------------------------------------\u001b[0m\n\u001b[0;31mImportError\u001b[0m                               Traceback (most recent call last)",
        "\u001b[0;32m<ipython-input-2-09375fee85cd>\u001b[0m in \u001b[0;36m<module>\u001b[0;34m()\u001b[0m\n\u001b[1;32m      2\u001b[0m \u001b[0;32mimport\u001b[0m \u001b[0mpandas\u001b[0m\u001b[0;34m\u001b[0m\u001b[0m\n\u001b[1;32m      3\u001b[0m \u001b[0;32mimport\u001b[0m \u001b[0mscipy\u001b[0m\u001b[0;34m\u001b[0m\u001b[0m\n\u001b[0;32m----> 4\u001b[0;31m \u001b[0;32mfrom\u001b[0m \u001b[0mstatsmodels\u001b[0m \u001b[0;32mimport\u001b[0m \u001b[0mapi\u001b[0m \u001b[0;32mas\u001b[0m \u001b[0msm\u001b[0m\u001b[0;34m\u001b[0m\u001b[0m\n\u001b[0m\u001b[1;32m      5\u001b[0m '''\n\u001b[1;32m      6\u001b[0m \u001b[0mdf\u001b[0m \u001b[0;34m=\u001b[0m \u001b[0mpd\u001b[0m\u001b[0;34m.\u001b[0m\u001b[0mread_csv\u001b[0m\u001b[0;34m(\u001b[0m\u001b[0;34m'nycSubway.csv'\u001b[0m\u001b[0;34m)\u001b[0m\u001b[0;34m\u001b[0m\u001b[0m\n",
        "\u001b[0;31mImportError\u001b[0m: No module named statsmodels"
       ]
      }
     ],
     "prompt_number": 2
    },
    {
     "cell_type": "markdown",
     "metadata": {},
     "source": [
      "#Regression test with Min Temp & Max Dew"
     ]
    },
    {
     "cell_type": "code",
     "collapsed": false,
     "input": [
      "import numpy as np\n",
      "import pandas\n",
      "import scipy\n",
      "from statsmodels import api as sm\n",
      "\n",
      "df = pd.read_csv('nycSubway.csv')\n",
      "\n",
      "y = df['ENTRIESn_hourly']\n",
      "x = weather_turnstile[['mintempi','maxdewpti']]\n",
      "prediction = sm.OLS(y, x).fit()\n",
      "print prediction.summary()\n",
      "#    print prediction.predict()\n"
     ],
     "language": "python",
     "metadata": {},
     "outputs": []
    },
    {
     "cell_type": "markdown",
     "metadata": {},
     "source": [
      "#Regression test with Rain"
     ]
    },
    {
     "cell_type": "code",
     "collapsed": false,
     "input": [
      "import numpy as np\n",
      "import pandas\n",
      "import scipy\n",
      "from statsmodels import api as sm\n",
      "\n",
      "df = pd.read_csv('nycSubway.csv')\n",
      "\n",
      "y = df['ENTRIESn_hourly']\n",
      "x = weather_turnstile[['rain']]\n",
      "prediction = sm.OLS(y, x).fit()\n",
      "print prediction.summary()\n",
      "#    print prediction.predict()\n"
     ],
     "language": "python",
     "metadata": {},
     "outputs": []
    },
    {
     "cell_type": "markdown",
     "metadata": {},
     "source": [
      "#Regression test with Min Temp"
     ]
    },
    {
     "cell_type": "code",
     "collapsed": false,
     "input": [
      "import numpy as np\n",
      "import pandas\n",
      "import scipy\n",
      "from statsmodels import api as sm\n",
      "\n",
      "df = pd.read_csv('nycSubway.csv')\n",
      "\n",
      "y = df['ENTRIESn_hourly']\n",
      "x = weather_turnstile[['mintempi']]\n",
      "prediction = sm.OLS(y, x).fit()\n",
      "print prediction.summary()\n",
      "#    print prediction.predict()\n"
     ],
     "language": "python",
     "metadata": {},
     "outputs": []
    },
    {
     "cell_type": "markdown",
     "metadata": {},
     "source": [
      "#Regression test with Max Dew"
     ]
    },
    {
     "cell_type": "code",
     "collapsed": false,
     "input": [
      "import numpy as np\n",
      "import pandas\n",
      "import scipy\n",
      "from statsmodels import api as sm\n",
      "\n",
      "df = pd.read_csv('nycSubway.csv')\n",
      "\n",
      "y = df['ENTRIESn_hourly']\n",
      "x = weather_turnstile[['maxdewpti']]\n",
      "prediction = sm.OLS(y, x).fit()\n",
      "print prediction.summary()\n",
      "#    print prediction.predict()\n"
     ],
     "language": "python",
     "metadata": {},
     "outputs": []
    }
   ],
   "metadata": {}
  }
 ]
}