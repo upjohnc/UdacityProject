{
 "metadata": {
  "name": "",
  "signature": "sha256:6ffb276c75a70f353d5c6f3566375ee698e8b5c532b49a2ee1876ca103adb7df"
 },
 "nbformat": 3,
 "nbformat_minor": 0,
 "worksheets": [
  {
   "cells": [
    {
     "cell_type": "markdown",
     "metadata": {},
     "source": [
      "#Early Data Assessment\n",
      "Graphical analysis to understand data and define direction of further analysis"
     ]
    },
    {
     "cell_type": "markdown",
     "metadata": {},
     "source": [
      "#Summary of the data set\n",
      "Starting view of data set"
     ]
    },
    {
     "cell_type": "code",
     "collapsed": false,
     "input": [
      "import pandas as pd\n",
      "df = pd.read_csv('nycSubway.csv')\n",
      "#print 131951 * 5 * 12\n",
      "print(df.describe())"
     ],
     "language": "python",
     "metadata": {},
     "outputs": [
      {
       "output_type": "stream",
       "stream": "stdout",
       "text": [
        "          Unnamed: 0           Hour  ENTRIESn_hourly  EXITSn_hourly  \\\n",
        "count  131951.000000  131951.000000    131951.000000  131951.000000   \n",
        "mean    65975.000000      10.896158      1095.348478     886.890838   \n",
        "std     38091.117022       6.892084      2337.015421    2008.604886   \n",
        "min         0.000000       0.000000         0.000000       0.000000   \n",
        "25%     32987.500000       5.000000        39.000000      32.000000   \n",
        "50%     65975.000000      12.000000       279.000000     232.000000   \n",
        "75%     98962.500000      17.000000      1109.000000     847.000000   \n",
        "max    131950.000000      23.000000     51839.000000   45249.000000   \n",
        "\n",
        "        maxpressurei      maxdewpti      mindewpti   minpressurei  \\\n",
        "count  131951.000000  131951.000000  131951.000000  131951.000000   \n",
        "mean       30.031894      57.241302      48.259013      29.892714   \n",
        "std         0.125689       8.770891      11.305312       0.146384   \n",
        "min        29.740000      39.000000      22.000000      29.540000   \n",
        "25%        29.960000      50.000000      38.000000      29.840000   \n",
        "50%        30.030000      57.000000      51.000000      29.910000   \n",
        "75%        30.100000      64.000000      55.000000      29.970000   \n",
        "max        30.310000      70.000000      66.000000      30.230000   \n",
        "\n",
        "          meandewpti  meanpressurei            fog           rain  \\\n",
        "count  131951.000000  131951.000000  131951.000000  131951.000000   \n",
        "mean       52.703526      29.965077       0.167100       0.334245   \n",
        "std         9.943590       0.130461       0.373066       0.471728   \n",
        "min        31.000000      29.640000       0.000000       0.000000   \n",
        "25%        45.000000      29.910000       0.000000       0.000000   \n",
        "50%        54.000000      29.960000       0.000000       0.000000   \n",
        "75%        60.000000      30.050000       0.000000       1.000000   \n",
        "max        68.000000      30.270000       1.000000       1.000000   \n",
        "\n",
        "        meanwindspdi       mintempi      meantempi       maxtempi  \\\n",
        "count  131951.000000  131951.000000  131951.000000  131951.000000   \n",
        "mean        5.543065      56.169775      64.269729      71.769968   \n",
        "std         1.982441       6.338875       6.568289       7.627218   \n",
        "min         1.000000      46.000000      55.000000      58.000000   \n",
        "25%         5.000000      52.000000      60.000000      65.000000   \n",
        "50%         5.000000      54.000000      63.000000      71.000000   \n",
        "75%         6.000000      60.000000      68.000000      78.000000   \n",
        "max        12.000000      70.000000      78.000000      86.000000   \n",
        "\n",
        "             precipi  thunder  \n",
        "count  131951.000000   131951  \n",
        "mean        0.172276        0  \n",
        "std         0.429005        0  \n",
        "min         0.000000        0  \n",
        "25%         0.000000        0  \n",
        "50%         0.000000        0  \n",
        "75%         0.100000        0  \n",
        "max         2.180000        0  \n"
       ]
      }
     ],
     "prompt_number": 1
    },
    {
     "cell_type": "markdown",
     "metadata": {},
     "source": [
      "# Display barplot of entries per day of the week"
     ]
    },
    {
     "cell_type": "code",
     "collapsed": false,
     "input": [
      "%matplotlib inline\n",
      "import numpy as np\n",
      "import pandas as pd\n",
      "import seaborn as sns\n",
      "import datetime\n",
      "import pylab as py\n",
      "\n",
      "\n",
      "df = pd.read_csv('nycSubway.csv')\n",
      "\n",
      "entriesByDayOfMonth = df[['DATEn', 'ENTRIESn_hourly']] \\\n",
      "    .groupby('DATEn', as_index=False).sum()\n",
      "entriesByDayOfMonth['Day'] = [datetime.datetime.strptime(x, '%Y-%m-%d') \\\n",
      "                                  .strftime('%w %a') \\\n",
      "                              for x in entriesByDayOfMonth['DATEn']]\n",
      "entriesByDay = entriesByDayOfMonth[['Day', 'ENTRIESn_hourly']]\\\n",
      "    .groupby('Day', as_index=False).sum()\n",
      "\n",
      "entriesByDay.columns = ['Day', 'Entries']\n",
      "\n",
      "g = sns.barplot(x = 'Day', y = 'Entries', data = entriesByDay, color=\"LightSalmon\")\n",
      "g.set(xlabel=\"Day\", ylabel=\"Entries\", title = \"Entries per Day of the Week\")\n",
      "py.savefig('graphs/perWeek11.png', transparent=False, bbox_inches='tight', pad_inches=0.1)"
     ],
     "language": "python",
     "metadata": {},
     "outputs": [
      {
       "metadata": {},
       "output_type": "display_data",
       "png": "[encoded data removed]",
       "text": [
        "<matplotlib.figure.Figure at 0x7e22cd0>"
       ]
      }
     ],
     "prompt_number": 2
    },
    {
     "cell_type": "markdown",
     "metadata": {},
     "source": [
      "# Display barplot of entries per hour"
     ]
    },
    {
     "cell_type": "code",
     "collapsed": false,
     "input": [
      "#%matplotlib inline\n",
      "import numpy as np\n",
      "import pandas as pd\n",
      "#import seaborn as sns\n",
      "import datetime\n",
      "\n",
      "\n",
      "df = pd.read_csv('nycSubway.csv')\n",
      "\n",
      "entriesByTime = df[['TIMEn', 'ENTRIESn_hourly']] \\\n",
      "    .groupby('TIMEn', as_index=False).sum()\n",
      "entriesByTime['Hour'] = [datetime.datetime.strptime(x, '%H:%M:%S') \\\n",
      "                                  .strftime('%H') \\\n",
      "                              for x in entriesByTime['TIMEn']]\n",
      "entriesByHour = entriesByTime[['Hour', 'ENTRIESn_hourly']]\\\n",
      "    .groupby('Hour', as_index=False).sum()\n",
      "    \n",
      "entriesByHour.columns = ['Hour of the Day', 'Entries']    \n",
      "\n",
      "print(entriesByHour)\n",
      "g = sns.barplot(x = 'Hour of the Day', y = 'Entries', data = entriesByHour, color=\"LimeGreen\")\n",
      "g.set(xlabel=\"Hour of the Day\", ylabel=\"Entries\", title = \"Entries per Hour of the Day\");\n",
      "py.savefig('graphs/perHour.png', transparent=False, bbox_inches='tight', pad_inches=0.1)"
     ],
     "language": "python",
     "metadata": {},
     "outputs": [
      {
       "output_type": "stream",
       "stream": "stdout",
       "text": [
        "   Hour of the Day   Entries\n",
        "0               00  10808140\n",
        "1               01   4968660\n",
        "2               02    428132\n",
        "3               03     81347\n",
        "4               04   2438467\n",
        "5               05   1179772\n",
        "6               06    182794\n",
        "7               07    383688\n",
        "8               08   5494724\n",
        "9               09  11040951\n",
        "10              10   1315487\n",
        "11              11    646283\n",
        "12              12  22813370\n",
        "13              13   9410492\n",
        "14              14   1164714\n",
        "15              15    447312\n",
        "16              16  17336942\n",
        "17              17  12692994\n",
        "18              18   1688747\n",
        "19              19    834832\n",
        "20              20  24505496\n",
        "21              21  13121000\n",
        "22              22   1202310\n",
        "23              23    345673\n"
       ]
      },
      {
       "metadata": {},
       "output_type": "display_data",
       "png": "[encoded data removed]",
       "text": [
        "<matplotlib.figure.Figure at 0x9495870>"
       ]
      }
     ],
     "prompt_number": 3
    },
    {
     "cell_type": "markdown",
     "metadata": {},
     "source": [
      "#T-Test function to test at 95% significance level"
     ]
    },
    {
     "cell_type": "code",
     "collapsed": false,
     "input": [
      "import numpy\n",
      "import scipy.stats\n",
      "import pandas\n",
      "\n",
      "def compareAverages(list1, list2):\n",
      "    \"\"\"\n",
      "    With a significance level of 95%, if there is no difference\n",
      "    between the two cohorts, return a tuple consisting of\n",
      "    True, and then the tuple returned by scipy.stats.ttest.  \n",
      "    \n",
      "    If there is a difference, return a tuple consisting of\n",
      "    False, and then the tuple returned by scipy.stats.ttest.\n",
      "    \n",
      "    For example, the tuple that you return may look like:\n",
      "    (True, (9.93570222, 0.000023))\n",
      "    \"\"\"\n",
      "    \n",
      "    \n",
      "    result = scipy.stats.mannwhitneyu(list1, list2)\n",
      "    if result[1] <= .05:\n",
      "        return (False, result)\n",
      "    else:\n",
      "        return (True, result)\n",
      "   \n",
      "print( 'done')"
     ],
     "language": "python",
     "metadata": {},
     "outputs": [
      {
       "output_type": "stream",
       "stream": "stdout",
       "text": [
        "done\n"
       ]
      }
     ],
     "prompt_number": 7
    },
    {
     "cell_type": "markdown",
     "metadata": {},
     "source": [
      "#Mann Whitney U Test"
     ]
    },
    {
     "cell_type": "markdown",
     "metadata": {},
     "source": [
      "#Test for statistical significance between weekdays and weekends"
     ]
    },
    {
     "cell_type": "code",
     "collapsed": false,
     "input": [
      "print('Compare Monday to Sunday')\n",
      "list1 = entriesByDayOfMonth.ix[entriesByDayOfMonth['Day'] == '0 Sun']['ENTRIESn_hourly']\n",
      "list2 = entriesByDayOfMonth.ix[entriesByDayOfMonth['Day'] == '1 Mon']['ENTRIESn_hourly']\n",
      "print (compareAverages(list1, list2)) \n",
      "print ('\\n')\n",
      "\n",
      "print ('Compare Tuesday to Sunday')\n",
      "list1 = entriesByDayOfMonth.ix[entriesByDayOfMonth['Day'] == '0 Sun']['ENTRIESn_hourly']\n",
      "list2 = entriesByDayOfMonth.ix[entriesByDayOfMonth['Day'] == '2 Tue']['ENTRIESn_hourly']\n",
      "print (compareAverages(list1, list2))\n",
      "print ('\\n')\n",
      "\n",
      "print ('Compare Wednesday to Sunday')\n",
      "list1 = entriesByDayOfMonth.ix[entriesByDayOfMonth['Day'] == '0 Sun']['ENTRIESn_hourly']\n",
      "list2 = entriesByDayOfMonth.ix[entriesByDayOfMonth['Day'] == '3 Wed']['ENTRIESn_hourly']\n",
      "print (compareAverages(list1, list2))\n",
      "print ('\\n')\n",
      "\n",
      "print ('Compare Thursday to Sunday')\n",
      "list1 = entriesByDayOfMonth.ix[entriesByDayOfMonth['Day'] == '0 Sun']['ENTRIESn_hourly']\n",
      "list2 = entriesByDayOfMonth.ix[entriesByDayOfMonth['Day'] == '4 Thu']['ENTRIESn_hourly']\n",
      "print (compareAverages(list1, list2))\n",
      "print ('\\n')\n",
      "\n",
      "print ('Compare Friday to Sunday')\n",
      "list1 = entriesByDayOfMonth.ix[entriesByDayOfMonth['Day'] == '0 Sun']['ENTRIESn_hourly']\n",
      "list2 = entriesByDayOfMonth.ix[entriesByDayOfMonth['Day'] == '5 Fri']['ENTRIESn_hourly']\n",
      "print (compareAverages(list1, list2))\n",
      "print ('\\n')\n",
      "\n",
      "print ('Compare Monday to Saturday')\n",
      "list1 = entriesByDayOfMonth.ix[entriesByDayOfMonth['Day'] == '6 Sat']['ENTRIESn_hourly']\n",
      "list2 = entriesByDayOfMonth.ix[entriesByDayOfMonth['Day'] == '1 Mon']['ENTRIESn_hourly']\n",
      "print (compareAverages(list1, list2))\n",
      "print ('\\n')\n",
      "\n",
      "print ('Compare Tuesday to Saturday')\n",
      "list1 = entriesByDayOfMonth.ix[entriesByDayOfMonth['Day'] == '6 Sat']['ENTRIESn_hourly']\n",
      "list2 = entriesByDayOfMonth.ix[entriesByDayOfMonth['Day'] == '2 Tue']['ENTRIESn_hourly']\n",
      "print (compareAverages(list1, list2))\n",
      "print ('\\n')\n",
      "\n",
      "print ('Compare Wednesday to Saturday')\n",
      "list1 = entriesByDayOfMonth.ix[entriesByDayOfMonth['Day'] == '6 Sat']['ENTRIESn_hourly']\n",
      "list2 = entriesByDayOfMonth.ix[entriesByDayOfMonth['Day'] == '3 Wed']['ENTRIESn_hourly']\n",
      "print (compareAverages(list1, list2))\n",
      "print ('\\n')\n",
      "\n",
      "print ('Compare Thursday to Saturday')\n",
      "list1 = entriesByDayOfMonth.ix[entriesByDayOfMonth['Day'] == '6 Sat']['ENTRIESn_hourly']\n",
      "list2 = entriesByDayOfMonth.ix[entriesByDayOfMonth['Day'] == '4 Thu']['ENTRIESn_hourly']\n",
      "print (compareAverages(list1, list2))\n",
      "print ('\\n')\n",
      "\n",
      "print ('Compare Friday to Saturday')\n",
      "list1 = entriesByDayOfMonth.ix[entriesByDayOfMonth['Day'] == '6 Sat']['ENTRIESn_hourly']\n",
      "list2 = entriesByDayOfMonth.ix[entriesByDayOfMonth['Day'] == '5 Fri']['ENTRIESn_hourly']\n",
      "print (compareAverages(list1, list2))\n",
      "print ('\\n')\n"
     ],
     "language": "python",
     "metadata": {},
     "outputs": [
      {
       "output_type": "stream",
       "stream": "stdout",
       "text": [
        "Compare Monday to Sunday\n",
        "(False, (4.0, 0.047346471299737944))\n",
        "\n",
        "\n",
        "Compare Tuesday to Sunday\n",
        "(False, (0.0, 0.0099822266526080217))\n",
        "\n",
        "\n",
        "Compare Wednesday to Sunday\n",
        "(False, (0.0, 0.0099822266526080217))\n",
        "\n",
        "\n",
        "Compare Thursday to Sunday\n",
        "(False, (0.0, 0.0099822266526080217))\n",
        "\n",
        "\n",
        "Compare Friday to Sunday\n",
        "(False, (0.0, 0.0099822266526080217))\n",
        "\n",
        "\n",
        "Compare Monday to Saturday\n",
        "(True, (4.0, 0.088954797493491222))\n",
        "\n",
        "\n",
        "Compare Tuesday to Saturday\n",
        "(False, (0.0, 0.015191410988288745))\n",
        "\n",
        "\n",
        "Compare Wednesday to Saturday\n",
        "(False, (0.0, 0.015191410988288745))\n",
        "\n",
        "\n",
        "Compare Thursday to Saturday\n",
        "(False, (0.0, 0.015191410988288745))\n",
        "\n",
        "\n",
        "Compare Friday to Saturday\n",
        "(False, (0.0, 0.015191410988288745))\n",
        "\n",
        "\n"
       ]
      }
     ],
     "prompt_number": 8
    },
    {
     "cell_type": "markdown",
     "metadata": {},
     "source": [
      "#Test for statistical significance between different hours of they day"
     ]
    },
    {
     "cell_type": "code",
     "collapsed": false,
     "input": [
      "print ('Compare Noon to 10am')\n",
      "list1 = entriesByTime.ix[entriesByTime['Hour'] == '12']['ENTRIESn_hourly']\n",
      "list2 = entriesByTime.ix[entriesByTime['Hour'] == '10']['ENTRIESn_hourly']\n",
      "print (compareAverages(list1, list2))\n",
      "print ('\\n')\n",
      "\n",
      "print ('Compare Noon to 3pm')\n",
      "list1 = entriesByTime.ix[entriesByTime['Hour'] == '12']['ENTRIESn_hourly']\n",
      "list2 = entriesByTime.ix[entriesByTime['Hour'] == '15']['ENTRIESn_hourly']\n",
      "print (compareAverages(list1, list2))\n",
      "print ('\\n')\n",
      "\n",
      "print ('Compare 8pm to 10am')\n",
      "list1 = entriesByTime.ix[entriesByTime['Hour'] == '20']['ENTRIESn_hourly']\n",
      "list2 = entriesByTime.ix[entriesByTime['Hour'] == '10']['ENTRIESn_hourly']\n",
      "print (compareAverages(list1, list2))\n",
      "print ('\\n')\n",
      "\n",
      "print ('Compare 8pm to 3pm')\n",
      "list1 = entriesByTime.ix[entriesByTime['Hour'] == '20']['ENTRIESn_hourly']\n",
      "list2 = entriesByTime.ix[entriesByTime['Hour'] == '15']['ENTRIESn_hourly']\n",
      "print (compareAverages(list1, list2))\n",
      "print ('\\n')\n"
     ],
     "language": "python",
     "metadata": {},
     "outputs": [
      {
       "output_type": "stream",
       "stream": "stdout",
       "text": [
        "Compare Noon to 10am\n",
        "(False, (836775.5, 2.5289434603930246e-07))\n",
        "\n",
        "\n",
        "Compare Noon to 3pm\n",
        "(True, (902172.5, 0.3777763183720152))\n",
        "\n",
        "\n",
        "Compare 8pm to 10am\n",
        "(True, (870159.0, 0.37499448856388157))\n",
        "\n",
        "\n",
        "Compare 8pm to 3pm\n",
        "(False, (746274.0, 2.951329574786847e-08))\n",
        "\n",
        "\n"
       ]
      }
     ],
     "prompt_number": 9
    },
    {
     "cell_type": "markdown",
     "metadata": {},
     "source": [
      "#Test Code"
     ]
    },
    {
     "cell_type": "code",
     "collapsed": false,
     "input": [
      "#print df.head()\n",
      "#print entriesByPrec#df.head()\n",
      "'''with open('/Users/user/Projects/UdacityProject/tempFile.csv', \"wb\") as ifile:\n",
      "        entriesByTime.to_csv(ifile)\n",
      "\n",
      "df['rain'] =  df['rain'] + 1\n",
      "print df['rain']\n",
      "'''\n",
      "#entriesByDay\n",
      "\n",
      "print entriesByTime.ix[entriesByTime['Hour'] == '12']['ENTRIESn_hourly'].head()\n",
      "print entriesByTime.ix[entriesByTime['Hour'] == '10']['ENTRIESn_hourly'].head()\n",
      "print entriesByTime.ix[entriesByTime['Hour'] == '03']['ENTRIESn_hourly'].head()\n",
      "print entriesByTime.ix[entriesByTime['Hour'] == '08']['ENTRIESn_hourly'].head()"
     ],
     "language": "python",
     "metadata": {},
     "outputs": [
      {
       "output_type": "stream",
       "stream": "stdout",
       "text": [
        "16182    22290248\n",
        "16183         318\n",
        "16184         857\n",
        "16185           8\n",
        "16186          12\n",
        "Name: ENTRIESn_hourly, dtype: float64\n",
        "13448    558396\n",
        "13449       922\n",
        "13450       423\n",
        "13451       324\n",
        "13452        84\n",
        "Name: ENTRIESn_hourly, dtype: float64\n",
        "3843    22230\n",
        "3844      363\n",
        "3845       49\n",
        "3846       12\n",
        "3847        4\n",
        "Name: ENTRIESn_hourly, dtype: float64\n",
        "10585    5007788\n",
        "10586          8\n",
        "10587         29\n",
        "10588         40\n",
        "10589         49\n",
        "Name: ENTRIESn_hourly, dtype: float64"
       ]
      },
      {
       "output_type": "stream",
       "stream": "stdout",
       "text": [
        "\n"
       ]
      }
     ],
     "prompt_number": 40
    }
   ],
   "metadata": {}
  }
 ]
}